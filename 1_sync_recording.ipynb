{
 "cells": [
  {
   "cell_type": "code",
   "execution_count": 1,
   "metadata": {},
   "outputs": [],
   "source": [
    "# imports\n",
    "import sys, os\n",
    "import numpy as np\n",
    "from pathlib import Path\n",
    "# from readSGLX import readMeta, SampRate, makeMemMapRaw, GainCorrectIM, GainCorrectNI, ExtractDigital\n",
    "from tqdm import tqdm\n",
    "import pandas as pd\n",
    "import pickle\n",
    "# import pyks_tools as pkt\n",
    "import sglx_tools as glt\n"
   ]
  },
  {
   "cell_type": "code",
   "execution_count": 2,
   "metadata": {},
   "outputs": [],
   "source": [
    "# path definitions\n",
    "exp_folder = Path('/media/georg/htcondor/shared-paton/georg/DAtime/data/batch_24a/2024-06-06_JJP-08672_dh_1-6-1')\n",
    "run_folder = exp_folder / 'stim_run_1_g0'\n",
    "imec_bin_path = run_folder / 'stim_run_1_g0_t0.imec0.ap.bin'\n",
    "ni_bin_path = run_folder / 'stim_run_1_g0_t0.nidq.bin'\n",
    "ks_folder = run_folder / 'ibl_sorter_results'\n",
    "results_folder = ks_folder / 'results'"
   ]
  },
  {
   "cell_type": "code",
   "execution_count": 2,
   "metadata": {},
   "outputs": [],
   "source": [
    "exp_folder = Path('/media/georg/htcondor/shared-paton/georg/DAtime/data/batch_24a_sorted/2024-06-08_JJP-08628_dh_5-6-1/')\n",
    "run_folder = exp_folder / 'stim_run_3_g0'\n",
    "imec_bin_path = run_folder / 'stim_run_3_g0_t0.imec0.ap.bin'\n",
    "ni_bin_path = run_folder / 'stim_run_3_g0_t0.nidq.bin'\n",
    "ks_folder = run_folder / 'ibl_sorter_results'\n",
    "results_folder = ks_folder / 'results'"
   ]
  },
  {
   "cell_type": "code",
   "execution_count": 3,
   "metadata": {},
   "outputs": [
    {
     "name": "stdout",
     "output_type": "stream",
     "text": [
      "loading clock calib values\n"
     ]
    }
   ],
   "source": [
    "# if data hasn't been synced, do so now\n",
    "path = ni_bin_path.with_suffix('.tcalib.npy')\n",
    "if path.exists():\n",
    "    print(\"loading clock calib values\")\n",
    "    mb = np.load(path)\n",
    "else:\n",
    "    print(\"no clock calib values found - computing them\")\n",
    "    mb = glt.synchronize_data_streams(ni_bin_path, imec_bin_path)"
   ]
  },
  {
   "cell_type": "code",
   "execution_count": 4,
   "metadata": {},
   "outputs": [
    {
     "name": "stdout",
     "output_type": "stream",
     "text": [
      "loading Events\n"
     ]
    }
   ],
   "source": [
    "# same with events\n",
    "events_path = ni_bin_path.with_suffix('.events')\n",
    "if events_path.exists():\n",
    "   \n",
    "    print(\"loading Events\")\n",
    "    with open(events_path, 'rb') as fH:\n",
    "        Events = pickle.load(fH)\n",
    "else:\n",
    "    print(\"extracting events \")\n",
    "    Events = glt.extract_events(ni_bin_path, save=True)"
   ]
  },
  {
   "cell_type": "markdown",
   "metadata": {},
   "source": [
    "applying synchronization"
   ]
  },
  {
   "cell_type": "code",
   "execution_count": 5,
   "metadata": {},
   "outputs": [],
   "source": [
    "# correct all event times\n",
    "for key in Events.keys():\n",
    "    Events[key]['times_corr'] = Events[key]['times'] * mb[0] + mb[1]\n",
    "\n",
    "# and store again\n",
    "with open(events_path, 'wb') as fH:\n",
    "    pickle.dump(Events, fH)"
   ]
  }
 ],
 "metadata": {
  "kernelspec": {
   "display_name": "ephys",
   "language": "python",
   "name": "python3"
  },
  "language_info": {
   "codemirror_mode": {
    "name": "ipython",
    "version": 3
   },
   "file_extension": ".py",
   "mimetype": "text/x-python",
   "name": "python",
   "nbconvert_exporter": "python",
   "pygments_lexer": "ipython3",
   "version": "3.10.8"
  }
 },
 "nbformat": 4,
 "nbformat_minor": 2
}
