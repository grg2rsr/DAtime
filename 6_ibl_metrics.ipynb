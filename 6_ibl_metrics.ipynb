{
 "cells": [
  {
   "cell_type": "code",
   "execution_count": 1,
   "metadata": {},
   "outputs": [],
   "source": [
    "# imports\n",
    "import sys, os\n",
    "from pathlib import Path\n",
    "from tqdm import tqdm\n",
    "import pickle\n",
    "\n",
    "import numpy as np\n",
    "import pandas as pd\n",
    "\n",
    "from brainbox.metrics import single_units as qm"
   ]
  },
  {
   "cell_type": "code",
   "execution_count": 85,
   "metadata": {},
   "outputs": [],
   "source": [
    "# path definitions\n",
    "# maybe it's possible to abbreviate this\n",
    "exp_folder = Path('/media/georg/htcondor/shared-paton/georg/DAtime/data/batch_24a/2024-06-06_JJP-08672_dh_1-6-1')\n",
    "run_folder = exp_folder / 'stim_run_1_g0'\n",
    "imec_bin_path = run_folder / 'stim_run_1_g0_t0.imec0.ap.bin'\n",
    "ni_bin_path = run_folder / 'stim_run_1_g0_t0.nidq.bin'\n",
    "ks_folder = run_folder / 'ibl_sorter_results'\n",
    "results_folder = ks_folder / 'results'"
   ]
  },
  {
   "cell_type": "code",
   "execution_count": 2,
   "metadata": {},
   "outputs": [],
   "source": [
    "exp_folder = Path('/media/georg/htcondor/shared-paton/georg/DAtime/data/batch_24a_sorted/2024-06-08_JJP-08628_dh_5-6-1/')\n",
    "run_folder = exp_folder / 'stim_run_3_g0'\n",
    "imec_bin_path = run_folder / 'stim_run_3_g0_t0.imec0.ap.bin'\n",
    "ni_bin_path = run_folder / 'stim_run_3_g0_t0.nidq.bin'\n",
    "ks_folder = run_folder / 'ibl_sorter_results'\n",
    "results_folder = ks_folder / 'results'"
   ]
  },
  {
   "cell_type": "code",
   "execution_count": 3,
   "metadata": {},
   "outputs": [],
   "source": [
    "spike_times = np.load(ks_folder / 'spike_times.npy')\n",
    "spike_clusters = np.load(ks_folder / 'spike_clusters.npy')\n",
    "spike_amps = np.load(ks_folder / 'amplitudes.npy')"
   ]
  },
  {
   "cell_type": "code",
   "execution_count": 88,
   "metadata": {},
   "outputs": [],
   "source": [
    "# # calculate spike depth\n",
    "# # using the absolute amplitude a templates on each channel for a weighted sum\n",
    "\n",
    "# # the xy coordinates of the channels\n",
    "# channel_positions = np.load(ks_folder / 'channel_positions.npy')\n",
    "\n",
    "# # templates = n_templates x n_timesample x n_channels\n",
    "# templates = np.load(ks_folder / 'templates.npy')\n",
    "\n",
    "# templates_depths = np.empty(templates.shape[0])\n",
    "# for i in range(templates.shape[0]):\n",
    "#     T = templates[i,:,:]\n",
    "#     W = np.max(np.absolute(T), axis=0) # the weights\n",
    "#     W = W / np.sum(W)\n",
    "#     channel_depths = channel_positions[:,1]\n",
    "#     templates_depths[i] = np.sum(channel_depths * W)\n",
    "\n",
    "# spike_depths = templates_depths[spike_clusters]"
   ]
  },
  {
   "cell_type": "code",
   "execution_count": 4,
   "metadata": {},
   "outputs": [
    {
     "name": "stderr",
     "output_type": "stream",
     "text": [
      "/home/georg/anaconda3/envs/ephys/lib/python3.10/site-packages/phylib/io/model.py:1083: RuntimeWarning: invalid value encountered in divide\n",
      "  spikes_depths[ispi] = (np.sum(np.transpose(ypos * features) /\n"
     ]
    }
   ],
   "source": [
    "from ibllib.ephys.ephysqc import phy_model_from_ks2_path\n",
    "m = phy_model_from_ks2_path(ks_folder, bin_path=imec_bin_path)\n",
    "cluster_ids = m.spike_clusters\n",
    "ts = m.spike_times\n",
    "amps = m.amplitudes\n",
    "depths = m.depths\n",
    "r = qm.quick_unit_metrics(cluster_ids, ts, amps, depths)\n",
    "MetricsDf = pd.DataFrame(r)"
   ]
  },
  {
   "cell_type": "code",
   "execution_count": 5,
   "metadata": {},
   "outputs": [],
   "source": [
    "# get UnitsDf and add the metrics\n",
    "UnitsDf = pd.read_csv(results_folder / 'UnitsDf.csv')\n",
    "UnitsDf = pd.merge(MetricsDf, UnitsDf, on='cluster_id')\n",
    "\n",
    "# and store\n",
    "UnitsDf.to_csv(ks_folder / 'results' / 'UnitsDf.csv', index=None)"
   ]
  },
  {
   "cell_type": "code",
   "execution_count": 123,
   "metadata": {},
   "outputs": [
    {
     "name": "stderr",
     "output_type": "stream",
     "text": [
      "/tmp/ipykernel_3911944/1791082637.py:5: RuntimeWarning: More than 20 figures have been opened. Figures created through the pyplot interface (`matplotlib.pyplot.figure`) are retained until explicitly closed and may consume too much memory. (To control this warning, see the rcParam `figure.max_open_warning`). Consider using `matplotlib.pyplot.close()`.\n",
      "  fig, axes = plt.subplots()\n"
     ]
    }
   ],
   "source": [
    "# do something with the metrics\n",
    "import seaborn as sns\n",
    "import matplotlib.pyplot as plt\n",
    "for col in UnitsDf.columns:\n",
    "    fig, axes = plt.subplots()\n",
    "    sns.histplot(UnitsDf, x=col)"
   ]
  }
 ],
 "metadata": {
  "kernelspec": {
   "display_name": "ibl",
   "language": "python",
   "name": "python3"
  },
  "language_info": {
   "codemirror_mode": {
    "name": "ipython",
    "version": 3
   },
   "file_extension": ".py",
   "mimetype": "text/x-python",
   "name": "python",
   "nbconvert_exporter": "python",
   "pygments_lexer": "ipython3",
   "version": "3.10.8"
  }
 },
 "nbformat": 4,
 "nbformat_minor": 2
}
