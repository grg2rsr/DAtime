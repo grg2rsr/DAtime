{
 "cells": [
  {
   "cell_type": "markdown",
   "metadata": {},
   "source": [
    "# estimating the firing rates\n",
    "of an entire recording"
   ]
  },
  {
   "cell_type": "code",
   "execution_count": 1,
   "metadata": {},
   "outputs": [],
   "source": [
    "import os\n",
    "import numpy as np\n",
    "import pandas as pd\n",
    "from pathlib import Path\n",
    "from readSGLX import readMeta\n",
    "import pyks_tools as pkt\n",
    "from tqdm import tqdm\n",
    "import pynapple as nap"
   ]
  },
  {
   "cell_type": "code",
   "execution_count": 2,
   "metadata": {},
   "outputs": [],
   "source": [
    "# path definitions\n",
    "# maybe it's possible to abbreviate this\n",
    "exp_folder = Path(\"/media/georg/htcondor/shared-paton/georg/DAtime/data/2023-02-17_JJP-05313-dh_B_1-2-3/\")\n",
    "run_folder = exp_folder / \"stim_run_2_g0\"\n",
    "imec_bin_path = run_folder / \"stim_run_2_g0_t0.imec0.ap.bin\"\n",
    "ni_bin_path = run_folder / \"stim_run_2_g0_t0.nidq.bin\"\n",
    "ks_folder = run_folder / \"pyks2_output\""
   ]
  },
  {
   "cell_type": "code",
   "execution_count": 2,
   "metadata": {},
   "outputs": [],
   "source": [
    "# path definitions\n",
    "exp_folder = Path('/media/georg/htcondor/shared-paton/georg/DAtime/data/batch_24a/2024-06-06_JJP-08672_dh_1-6-1')\n",
    "run_folder = exp_folder / 'stim_run_1_g0'\n",
    "imec_bin_path = run_folder / 'stim_run_1_g0_t0.imec0.ap.bin'\n",
    "ni_bin_path = run_folder / 'stim_run_1_g0_t0.nidq.bin'\n",
    "ks_folder = run_folder / 'ibl_sorter_results'\n",
    "results_folder = ks_folder / 'results'\n",
    "os.makedirs(results_folder, exist_ok=True)"
   ]
  },
  {
   "cell_type": "code",
   "execution_count": 2,
   "metadata": {},
   "outputs": [],
   "source": [
    "exp_folder = Path('/media/georg/htcondor/shared-paton/georg/DAtime/data/batch_24a_sorted/2024-06-08_JJP-08628_dh_5-6-1/')\n",
    "run_folder = exp_folder / 'stim_run_3_g0'\n",
    "imec_bin_path = run_folder / 'stim_run_3_g0_t0.imec0.ap.bin'\n",
    "ni_bin_path = run_folder / 'stim_run_3_g0_t0.nidq.bin'\n",
    "ks_folder = run_folder / 'ibl_sorter_results'\n",
    "results_folder = ks_folder / 'results'"
   ]
  },
  {
   "cell_type": "code",
   "execution_count": 3,
   "metadata": {},
   "outputs": [],
   "source": [
    "# work directly of pynapple data\n",
    "units = nap.load_file(str(results_folder / 'units.npz'))"
   ]
  },
  {
   "cell_type": "code",
   "execution_count": 4,
   "metadata": {},
   "outputs": [],
   "source": [
    "# firing rate estimation - params setup\n",
    "from scipy.signal.windows import gaussian\n",
    "\n",
    "t_start = 0\n",
    "t_stop = float(readMeta(imec_bin_path)['fileTimeSecs'])\n",
    "dt_ds = 0.005  # 5 ms resolution\n",
    "tvec = np.arange(t_start, t_stop, dt_ds)\n",
    "\n",
    "w_sd = int(0.25 / dt_ds) # 100 ms\n",
    "w_M = w_sd * 10\n",
    "w = gaussian(w_M, w_sd) # 5*dt so 25 ms\n",
    "w[:int(w.shape[0]/2)] = 0 # half gaussian -> making it causal\n",
    "w = w / w.sum()\n",
    "\n",
    "# store w for future purposes\n",
    "np.save(ks_folder / 'results' / 'w.npy', w)\n"
   ]
  },
  {
   "cell_type": "code",
   "execution_count": 5,
   "metadata": {},
   "outputs": [
    {
     "name": "stderr",
     "output_type": "stream",
     "text": [
      "100%|██████████| 594/594 [00:50<00:00, 11.69it/s]\n"
     ]
    }
   ],
   "source": [
    "# firing rate estimation\n",
    "R = []\n",
    "for unit_id, Ts in tqdm(units.items()):\n",
    "    dig = np.digitize(Ts.times(), tvec)\n",
    "    spikes_ds = np.zeros(tvec.shape[0])\n",
    "    spikes_ds[dig] = 1\n",
    "    R.append(np.convolve(spikes_ds, w, mode='same'))"
   ]
  },
  {
   "cell_type": "code",
   "execution_count": 6,
   "metadata": {},
   "outputs": [],
   "source": [
    "# and saving\n",
    "Rates = np.stack(R).T\n",
    "rates = nap.TsdFrame(t=tvec, d=Rates, columns=units.index)\n",
    "rates.save( str(results_folder / 'unit_rates.npz') )"
   ]
  },
  {
   "cell_type": "code",
   "execution_count": null,
   "metadata": {},
   "outputs": [],
   "source": []
  }
 ],
 "metadata": {
  "kernelspec": {
   "display_name": "ephys",
   "language": "python",
   "name": "python3"
  },
  "language_info": {
   "codemirror_mode": {
    "name": "ipython",
    "version": 3
   },
   "file_extension": ".py",
   "mimetype": "text/x-python",
   "name": "python",
   "nbconvert_exporter": "python",
   "pygments_lexer": "ipython3",
   "version": "3.10.8"
  }
 },
 "nbformat": 4,
 "nbformat_minor": 2
}
