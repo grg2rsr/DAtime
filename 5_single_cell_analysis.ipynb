{
 "cells": [
  {
   "cell_type": "markdown",
   "metadata": {},
   "source": [
    "# single cell analysis\n",
    "this script contains\n",
    "+ quality metrics\n",
    "+ stability\n",
    "+ sig up or down mod -> writing the results to UnitsDf\n",
    "+ single cell plots (raster / firing rates)"
   ]
  },
  {
   "cell_type": "code",
   "execution_count": 42,
   "metadata": {},
   "outputs": [],
   "source": [
    "# imports\n",
    "import sys, os\n",
    "from pathlib import Path\n",
    "from tqdm import tqdm\n",
    "import pickle\n",
    "\n",
    "import numpy as np\n",
    "import pandas as pd\n",
    "\n",
    "import pyks_tools as pkt\n",
    "import pynapple as nap\n",
    "from stim_tools import get_stim_dur_offset"
   ]
  },
  {
   "cell_type": "code",
   "execution_count": 5,
   "metadata": {},
   "outputs": [],
   "source": [
    "# path definitions\n",
    "# maybe it's possible to abbreviate this\n",
    "exp_folder = Path('/media/georg/htcondor/shared-paton/georg/DAtime/data/2023-02-17_JJP-05313-dh_B_1-2-3/')\n",
    "run_folder = exp_folder / 'stim_run_2_g0'\n",
    "imec_bin_path = run_folder / 'stim_run_2_g0_t0.imec0.ap.bin'\n",
    "ni_bin_path = run_folder / 'stim_run_2_g0_t0.nidq.bin'\n",
    "ks_folder = run_folder / 'pyks2_output'\n",
    "results_folder = ks_folder / 'results'"
   ]
  },
  {
   "cell_type": "code",
   "execution_count": 43,
   "metadata": {},
   "outputs": [],
   "source": [
    "# path definitions\n",
    "exp_folder = Path('/media/georg/htcondor/shared-paton/georg/DAtime/data/batch_24a/2024-06-06_JJP-08672_dh_1-6-1')\n",
    "run_folder = exp_folder / 'stim_run_1_g0'\n",
    "imec_bin_path = run_folder / 'stim_run_1_g0_t0.imec0.ap.bin'\n",
    "ni_bin_path = run_folder / 'stim_run_1_g0_t0.nidq.bin'\n",
    "ks_folder = run_folder / 'ibl_sorter_results'\n",
    "results_folder = ks_folder / 'results'\n",
    "os.makedirs(results_folder, exist_ok=True)"
   ]
  },
  {
   "cell_type": "code",
   "execution_count": 91,
   "metadata": {},
   "outputs": [],
   "source": [
    "# load stim data\n",
    "StimsDf = pd.read_csv(run_folder / 'StimsDf.csv')\n",
    "StimsDf['stim_id'] = StimsDf['stim_id'].astype(str)\n",
    "\n",
    "with open(run_folder / 'stim_classes.pkl', 'rb') as fH:\n",
    "    stim_classes = pickle.load(fH)\n",
    "\n",
    "# load ephys data\n",
    "UnitsDf = pd.read_csv(results_folder / 'UnitsDf.csv')\n",
    "units = nap.load_file(str(results_folder / 'units.npz'))"
   ]
  },
  {
   "cell_type": "markdown",
   "metadata": {},
   "source": [
    "## VPL"
   ]
  },
  {
   "cell_type": "code",
   "execution_count": 48,
   "metadata": {},
   "outputs": [],
   "source": [
    "# VPL stim\n",
    "stim_times = StimsDf.loc[StimsDf['stim_id'] == '1']['t'].values # THIS WILL CRASH in the future\n",
    "# stim_times = nap.Ts(t=stim_times)\n",
    "\n",
    "n_stims = stim_times.shape[0]\n",
    "n_units = len(units)\n",
    "\n",
    "N_pre = np.zeros((n_stims, n_units))\n",
    "N_post = np.zeros((n_stims, n_units))\n",
    "\n",
    "stim_dur, t_offset = get_stim_dur_offset(stim_classes['1']) # HARDCODE\n",
    "\n",
    "# building windows for counts\n",
    "w = 3 # symmetric window in seconds after and before stim\n",
    "grace = 0.1 # extra seperating pad around trigger\n",
    "\n",
    "t0 = stim_times + t_offset # the zero point for VPL\n",
    "\n",
    "intervals_pre = nap.IntervalSet(start=t0-grace-w, end=t0-grace) # a window of size w shifted by grace\n",
    "intervals_post = nap.IntervalSet(start=t0+stim_dur+grace, end=t0+stim_dur+grace+w)"
   ]
  },
  {
   "cell_type": "code",
   "execution_count": 49,
   "metadata": {},
   "outputs": [
    {
     "name": "stderr",
     "output_type": "stream",
     "text": [
      "  0%|          | 0/198 [00:00<?, ?it/s]"
     ]
    },
    {
     "name": "stderr",
     "output_type": "stream",
     "text": [
      "100%|██████████| 198/198 [00:09<00:00, 21.44it/s]\n",
      "100%|██████████| 198/198 [00:08<00:00, 22.92it/s]\n"
     ]
    }
   ],
   "source": [
    "n_stims = stim_times.shape[0]\n",
    "\n",
    "N_pre = np.zeros((n_stims, n_units))\n",
    "N_post = np.zeros((n_stims, n_units))\n",
    "\n",
    "# pre\n",
    "for i in tqdm(range(n_stims)):\n",
    "    units_r = units.restrict(intervals_pre[i])\n",
    "    N_pre[i,:] = [units_r[j].shape[0] for j in range(len(units))]\n",
    "\n",
    "# post\n",
    "for i in tqdm(range(n_stims)):\n",
    "    units_r = units.restrict(intervals_post[i])\n",
    "    N_post[i,:] = [units_r[j].shape[0] for j in range(len(units))]\n"
   ]
  },
  {
   "cell_type": "code",
   "execution_count": 50,
   "metadata": {},
   "outputs": [],
   "source": [
    "# computing the diff and on the diff the stats\n",
    "N_diff = N_post - N_pre\n",
    "\n",
    "# do the stats - testing against zero mean\n",
    "\n",
    "from scipy.stats import ttest_1samp\n",
    "p_values = np.array([ttest_1samp(N_diff[:,j], 0).pvalue for j in range(n_units)])\n",
    "\n",
    "# default test is two-sided\n",
    "UnitsDf['sigmod_vpl'] = p_values < 0.05\n",
    "UnitsDf['upmod_vpl'] = N_diff.sum(axis=0) > 0\n",
    "UnitsDf['downmod_vpl'] = N_diff.sum(axis=0) < 0\n",
    "\n",
    "# one sided to test if there are more spikes post wrt to pre\n",
    "p_values = np.array([ttest_1samp(N_diff[:,j], 0, alternative='greater').pvalue for j in range(n_units)])\n",
    "UnitsDf['sigupmod_vpl'] = p_values < 0.05"
   ]
  },
  {
   "cell_type": "markdown",
   "metadata": {},
   "source": [
    "## same for DA - slightly different"
   ]
  },
  {
   "cell_type": "code",
   "execution_count": 51,
   "metadata": {},
   "outputs": [],
   "source": [
    "# DA stim\n",
    "stim_times = StimsDf.loc[StimsDf['stim_id'] == '3']['t'].values # the hardcoded stim \n",
    "\n",
    "n_stims = stim_times.shape[0]\n",
    "n_units = len(units)\n",
    "\n",
    "N_pre = np.zeros((n_stims, n_units))\n",
    "N_post = np.zeros((n_stims, n_units))\n",
    "\n",
    "# stim_dur, t_offset = get_stim_dur_offset(stim_classes['1']) # HARDCODE\n",
    "\n",
    "# building windows for counts\n",
    "w = 3 # symmetric window in seconds after and before stim\n",
    "grace = 0.1 # extra seperating pad around trigger\n",
    "\n",
    "t0 = stim_times # zero point for DA stim is trigger time (no offset)\n",
    "\n",
    "intervals_pre = nap.IntervalSet(start=t0-grace-w, end=t0-grace) # a window of size w shifted by grace\n",
    "intervals_post = nap.IntervalSet(start=t0+grace, end=t0+grace+w)\n"
   ]
  },
  {
   "cell_type": "code",
   "execution_count": 52,
   "metadata": {},
   "outputs": [
    {
     "name": "stderr",
     "output_type": "stream",
     "text": [
      "  0%|          | 0/199 [00:00<?, ?it/s]"
     ]
    },
    {
     "name": "stderr",
     "output_type": "stream",
     "text": [
      "100%|██████████| 199/199 [00:08<00:00, 23.09it/s]\n",
      "100%|██████████| 199/199 [00:08<00:00, 22.86it/s]\n"
     ]
    }
   ],
   "source": [
    "# counting code is identical\n",
    "n_stims = stim_times.shape[0]\n",
    "\n",
    "N_pre = np.zeros((n_stims, n_units))\n",
    "N_post = np.zeros((n_stims, n_units))\n",
    "\n",
    "# pre\n",
    "for i in tqdm(range(n_stims)):\n",
    "    units_r = units.restrict(intervals_pre[i])\n",
    "    N_pre[i,:] = [units_r[j].shape[0] for j in range(len(units))]\n",
    "\n",
    "# post\n",
    "for i in tqdm(range(n_stims)):\n",
    "    units_r = units.restrict(intervals_post[i])\n",
    "    N_post[i,:] = [units_r[j].shape[0] for j in range(len(units))]\n"
   ]
  },
  {
   "cell_type": "code",
   "execution_count": 53,
   "metadata": {},
   "outputs": [],
   "source": [
    "# stats code is slightly different\n",
    "\n",
    "# computing the diff and on the diff the stats\n",
    "N_diff = N_post - N_pre\n",
    "\n",
    "# do the stats - testing against zero mean\n",
    "# think of alternatively doing this one sided\n",
    "\n",
    "from scipy.stats import ttest_1samp\n",
    "p_values = np.array([ttest_1samp(N_diff[:,j], 0).pvalue for j in range(n_units)])\n",
    "\n",
    "UnitsDf['sigmod_da'] = p_values < 0.05\n",
    "UnitsDf['upmod_da'] = N_diff.sum(axis=0) > 0\n",
    "UnitsDf['downmod_da'] = N_diff.sum(axis=0) < 0\n",
    "\n",
    "# p_values = np.array([ttest_1samp(N_diff[:,j], 0, alternative='greater').pvalue for j in range(n_units)])\n",
    "# UnitsDf['sigupmod_vpl'] = p_values < 0.05"
   ]
  },
  {
   "cell_type": "code",
   "execution_count": 54,
   "metadata": {},
   "outputs": [],
   "source": [
    "# store result\n",
    "UnitsDf.to_csv(results_folder / 'UnitsDf.csv', index=None)"
   ]
  },
  {
   "cell_type": "markdown",
   "metadata": {},
   "source": [
    "##  Plotting"
   ]
  },
  {
   "cell_type": "code",
   "execution_count": 55,
   "metadata": {},
   "outputs": [],
   "source": [
    "import matplotlib.pyplot as plt\n",
    "%matplotlib qt\n",
    "\n",
    "# order cells by mean or median\n",
    "order = np.argsort(np.average(N_diff,axis=0))\n",
    "\n",
    "n_units = UnitsDf.shape[0]"
   ]
  },
  {
   "cell_type": "code",
   "execution_count": 56,
   "metadata": {},
   "outputs": [],
   "source": [
    "fig, axes = plt.subplots()\n",
    "\n",
    "# colors = np.array(['k' if p > 0.05 else 'r' for p in p_values])\n",
    "# colors[UnitDf.good.values] = 'g'\n",
    "colors = np.zeros((UnitsDf.shape[0],4))\n",
    "colors[:,3] = 1.0\n",
    "\n",
    "# for i in np.where(UnitsDf['sigmod_vpl'] * UnitsDf['upmod_vpl'])[0]:\n",
    "for i in np.where(UnitsDf['sigupmod_vpl'])[0]:\n",
    "    colors[i,0] += 1.0\n",
    "\n",
    "for i in np.where(UnitsDf['sigmod_da'])[0]:\n",
    "    colors[i,2] += 1.0\n",
    "\n",
    "avgs = np.average(N_diff[:,order],axis=0) # / w\n",
    "sds = np.std(N_diff[:,order],axis=0) # / w\n",
    "pct = np.percentile(N_diff[:,order], (5,95), axis=0)\n",
    "\n",
    "# for i in range(n_units):\n",
    "#     axes.plot([i,i],[avgs[i]-sds[i],avgs[i]+sds[i]], lw=0.5, color=colors[order[i]])\n",
    "for i in range(n_units):\n",
    "    axes.plot([i,i],[pct[0,i],pct[1,i]], lw=1.5, color=colors[order[i]])\n",
    "\n",
    "axes.scatter(range(n_units), avgs, c=colors[order],s=4)\n",
    "axes.axhline(0,linestyle=':',lw=1,color='k',alpha=0.8)\n",
    "axes.set_xlabel('units')\n",
    "axes.set_ylabel('\\u0394 spikes/s')\n",
    "import seaborn as sns\n",
    "sns.despine(fig)\n"
   ]
  },
  {
   "cell_type": "code",
   "execution_count": 57,
   "metadata": {},
   "outputs": [
    {
     "data": {
      "text/plain": [
       "<matplotlib.image.AxesImage at 0x7f0ae8142590>"
      ]
     },
     "execution_count": 57,
     "metadata": {},
     "output_type": "execute_result"
    }
   ],
   "source": [
    "s = 30\n",
    "plt.matshow(N_diff[:,order],vmin=-s,vmax=s, cmap='PiYG')"
   ]
  },
  {
   "cell_type": "markdown",
   "metadata": {},
   "source": [
    "single unit raster plots"
   ]
  },
  {
   "cell_type": "code",
   "execution_count": 62,
   "metadata": {},
   "outputs": [],
   "source": [
    "Rates = nap.load_file(str(results_folder / 'unit_rates.npz'))"
   ]
  },
  {
   "cell_type": "code",
   "execution_count": 93,
   "metadata": {},
   "outputs": [],
   "source": [
    "def reslice_timestamps(T, slice_times, pre, post):\n",
    "    T_slices = []\n",
    "    for t in slice_times:\n",
    "        ix = np.logical_and(T > t+pre, T < t+post)\n",
    "        T_slices.append(T[ix] - t) # relative times\n",
    "    return T_slices\n",
    "\n",
    "pre, post = -2, 5\n",
    "stim_times = nap.Ts(t=StimsDf['t'].values)\n",
    "stim_intervals = nap.IntervalSet(start=stim_times.times()+pre, end=stim_times.times()+post)\n",
    "\n",
    "t_rel = Rates.restrict(stim_intervals[0]).times() - stim_times[0].times()\n",
    "\n",
    "# warning, duplication in memory\n",
    "Rates_resliced = np.stack([Rates.restrict(interval).as_array() for interval in stim_intervals], axis=2)\n",
    "\n",
    "\n",
    "unit_id = 0\n",
    "\n",
    "colors = {'1': '#E54444', '2':'#5F35E6', '3':'#D54CE6'}\n",
    "fig, axes = plt.subplots(nrows=4,sharex=True, figsize=[5,5])\n",
    "for j, label in enumerate(['1','2','3']):\n",
    "    spikes_sliced = reslice_timestamps(units[unit_id].times(), StimsDf.loc[StimsDf.stim_id == label].t, pre, post)\n",
    "    for i in range(len(spikes_sliced)):\n",
    "        t = spikes_sliced[i]\n",
    "        y = np.ones(t.shape[0]) * i\n",
    "        axes[j+1].plot(t,y, '.', color='k', markersize=1.5, alpha=0.35)\n",
    "\n",
    "    # rates \n",
    "    trial_ix = np.where(StimsDf.stim_id == label)[0]\n",
    "    rates = Rates_resliced[:, unit_id, trial_ix]\n",
    "    rates_avg = np.average(rates,axis=1)\n",
    "    axes[0].plot(t_rel, rates_avg, color=colors[label])\n",
    "    axes[0].set_xlim(-1,5)\n",
    "\n",
    "for ax in [axes[2],axes[3]]:\n",
    "    ax.axvspan(0.0,2.0,linewidth=0,color='darkcyan',alpha=0.15)\n",
    "\n",
    "for ax in [axes[1],axes[2]]:\n",
    "    ax.axvspan(0.25,0.5,linewidth=0,color='firebrick',alpha=0.15)\n",
    "\n",
    "for ax in axes[1:]:\n",
    "    ax.set_ylabel('trial #')\n",
    "\n",
    "axes[0].set_ylabel('rate (z)')\n",
    "axes[-1].set_xlabel('time (s)')\n",
    "\n",
    "fig.tight_layout()\n",
    "fig.suptitle('unit_id:%i' % unit_id)\n",
    "fig.subplots_adjust(top=0.925)\n",
    "sns.despine(fig)\n"
   ]
  },
  {
   "cell_type": "code",
   "execution_count": 87,
   "metadata": {},
   "outputs": [
    {
     "data": {
      "text/plain": [
       "cluster_id                    6\n",
       "amp_max               11.871768\n",
       "amp_min                5.844698\n",
       "amp_median             7.182305\n",
       "amp_std_dB             1.143595\n",
       "contamination               0.0\n",
       "contamination_alt           0.0\n",
       "drift                 49.213257\n",
       "missed_spikes_est      0.316301\n",
       "noise_cutoff          10.604946\n",
       "presence_ratio         0.455508\n",
       "presence_ratio_std    19.574046\n",
       "slidingRP_viol              1.0\n",
       "spike_count              3717.0\n",
       "firing_rate            0.789403\n",
       "label                  0.666667\n",
       "KSLabel                    good\n",
       "ContamPct                   0.0\n",
       "Amplitude                  57.5\n",
       "good                       True\n",
       "n_spikes                   3717\n",
       "frate                  0.789393\n",
       "sigmod_vpl                False\n",
       "upmod_vpl                  True\n",
       "downmod_vpl               False\n",
       "sigupmod_vpl              False\n",
       "sigmod_da                 False\n",
       "upmod_da                  False\n",
       "downmod_da                 True\n",
       "Name: 6, dtype: object"
      ]
     },
     "execution_count": 87,
     "metadata": {},
     "output_type": "execute_result"
    }
   ],
   "source": [
    "# fig, axes = plt.subplots()\n",
    "# sns.histplot(UnitsDf,x='amp_min')\n",
    "UnitsDf.iloc[6]"
   ]
  },
  {
   "cell_type": "code",
   "execution_count": null,
   "metadata": {},
   "outputs": [],
   "source": [
    "\n",
    "# %% raster plots\n",
    "import seaborn as sns\n",
    "from helpers import reslice_timestamps\n",
    "\n",
    "colors = {'1':'firebrick','2':'purple','3':'darkcyan'}\n",
    "\n",
    "for unit_id in tqdm(unit_ids):\n",
    "    fig, axes = plt.subplots(nrows=4,sharex=True, figsize=[5,5])\n",
    "    for j, label in enumerate(['1','2','3']):\n",
    "        spikes_sliced = reslice_timestamps(spikes.times[unit_id], StimsDf.loc[StimsDf.stim_id == label].t, -1, 5)\n",
    "        for i in range(len(spikes_sliced)):\n",
    "            t = spikes_sliced[i]\n",
    "            y = np.ones(t.shape[0]) * i\n",
    "            axes[j+1].plot(t,y, '.', color='k', markersize=1, alpha=0.3)\n",
    "\n",
    "        # rates \n",
    "        trial_ix = np.where(StimsDf.stim_id == label)[0]\n",
    "        rates = Rates.resliced[:, unit_id, trial_ix]\n",
    "        rates_avg = np.average(rates,axis=1)\n",
    "        axes[0].plot(Rates.t_rel, rates_avg, color=colors[label])\n",
    "        axes[0].set_xlim(-1,5)\n",
    "\n",
    "    for ax in [axes[2],axes[3]]:\n",
    "        ax.axvspan(0.0,2.0,linewidth=0,color='darkcyan',alpha=0.15)\n",
    "\n",
    "    for ax in [axes[1],axes[2]]:\n",
    "        ax.axvspan(0.25,0.5,linewidth=0,color='firebrick',alpha=0.15)\n",
    "\n",
    "    for ax in axes[1:]:\n",
    "        ax.set_ylabel('trial #')\n",
    "\n",
    "    axes[0].set_ylabel('rate (z)')\n",
    "    axes[-1].set_xlabel('time (s)')\n",
    "\n",
    "    fig.tight_layout()\n",
    "    fig.suptitle('unit_id:%i' % unit_id)\n",
    "    fig.subplots_adjust(top=0.925)\n",
    "    sns.despine(fig)\n",
    "    \n",
    "    fig.savefig(results_folder / 'plots' / 'rasters' / ('unit_%i.png' % unit_id))\n",
    "    plt.close()"
   ]
  }
 ],
 "metadata": {
  "kernelspec": {
   "display_name": "ephys",
   "language": "python",
   "name": "python3"
  },
  "language_info": {
   "codemirror_mode": {
    "name": "ipython",
    "version": 3
   },
   "file_extension": ".py",
   "mimetype": "text/x-python",
   "name": "python",
   "nbconvert_exporter": "python",
   "pygments_lexer": "ipython3",
   "version": "3.10.8"
  }
 },
 "nbformat": 4,
 "nbformat_minor": 2
}
