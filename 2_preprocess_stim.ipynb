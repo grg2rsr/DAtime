{
 "cells": [
  {
   "cell_type": "markdown",
   "metadata": {},
   "source": [
    "# stimulus preprocessing\n",
    "purpose: create a `StimsDf.csv` from the SpikeGLX folder"
   ]
  },
  {
   "cell_type": "code",
   "execution_count": 1,
   "metadata": {},
   "outputs": [],
   "source": [
    "from pathlib import Path\n",
    "import pickle\n",
    "import pandas as pd\n",
    "import numpy as np\n",
    "from stim_tools import get_StimsDf, infer_StimsDf"
   ]
  },
  {
   "cell_type": "code",
   "execution_count": 3,
   "metadata": {},
   "outputs": [],
   "source": [
    "# path definitions\n",
    "# maybe it's possible to abbreviate this\n",
    "exp_folder = Path(\"/media/georg/htcondor/shared-paton/georg/DAtime/data/230119_JJP-05248-dh_3-3-2/\")\n",
    "# exp_folder = Path(\"/media/georg/htcondor/shared-paton/georg/DAtime/data/2023-02-17_JJP-05313-dh_B_1-2-3/\")\n",
    "run_folder = exp_folder / \"stim_run_2_g0/\"\n",
    "imec_bin_path = run_folder / \"stim_run_2_g0_t0.imec0.ap.bin\"\n",
    "ni_bin_path = run_folder / \"stim_run_2_g0_t0.nidq.bin\"\n",
    "ks_folder = run_folder / \"pyks2_output\""
   ]
  },
  {
   "cell_type": "code",
   "execution_count": 4,
   "metadata": {},
   "outputs": [],
   "source": [
    "# path definitions\n",
    "# maybe it's possible to abbreviate this\n",
    "exp_folder = Path('/media/georg/htcondor/shared-paton/georg/DAtime/data/2023-02-17_JJP-05313-dh_B_1-2-3/')\n",
    "run_folder = exp_folder / 'stim_run_2_g0'\n",
    "imec_bin_path = run_folder / 'stim_run_2_g0_t0.imec0.ap.bin'\n",
    "ni_bin_path = run_folder / 'stim_run_2_g0_t0.nidq.bin'\n",
    "ks_folder = run_folder / 'pyks2_output'\n",
    "results_folder = ks_folder / 'results'"
   ]
  },
  {
   "cell_type": "code",
   "execution_count": 2,
   "metadata": {},
   "outputs": [],
   "source": [
    "# path definitions\n",
    "exp_folder = Path('/media/georg/htcondor/shared-paton/georg/DAtime/data/batch_24a/2024-06-06_JJP-08672_dh_1-6-1')\n",
    "run_folder = exp_folder / 'stim_run_1_g0'\n",
    "imec_bin_path = run_folder / 'stim_run_1_g0_t0.imec0.ap.bin'\n",
    "ni_bin_path = run_folder / 'stim_run_1_g0_t0.nidq.bin'\n",
    "ks_folder = run_folder / 'ibl_sorter_results'\n",
    "results_folder = ks_folder / 'results'"
   ]
  },
  {
   "cell_type": "code",
   "execution_count": 2,
   "metadata": {},
   "outputs": [],
   "source": [
    "exp_folder = Path('/media/georg/htcondor/shared-paton/georg/DAtime/data/batch_24a_sorted/2024-06-08_JJP-08628_dh_5-6-1/')\n",
    "run_folder = exp_folder / 'stim_run_3_g0'\n",
    "imec_bin_path = run_folder / 'stim_run_3_g0_t0.imec0.ap.bin'\n",
    "ni_bin_path = run_folder / 'stim_run_3_g0_t0.nidq.bin'\n",
    "ks_folder = run_folder / 'ibl_sorter_results'\n",
    "results_folder = ks_folder / 'results'"
   ]
  },
  {
   "cell_type": "code",
   "execution_count": 3,
   "metadata": {},
   "outputs": [
    {
     "name": "stdout",
     "output_type": "stream",
     "text": [
      "loading Events from /media/georg/htcondor/shared-paton/georg/DAtime/data/batch_24a_sorted/2024-06-08_JJP-08628_dh_5-6-1/stim_run_3_g0/stim_run_3_g0_t0.nidq.events\n"
     ]
    }
   ],
   "source": [
    "# get events\n",
    "events_path = ni_bin_path.with_suffix('.events')\n",
    "print(\"loading Events from %s\" % events_path)\n",
    "with open(events_path, 'rb') as fH:\n",
    "    Events = pickle.load(fH)\n",
    "\n",
    "from stim_tools import get_StimsDf\n",
    "\n",
    "StimsDf, stim_classes = get_StimsDf(run_folder, Events)\n",
    "\n",
    "# store\n",
    "StimsDf.to_csv(run_folder / \"StimsDf.csv\", index=None)\n",
    "path = run_folder / 'stim_classes.pkl'\n",
    "with open(path, 'wb') as fH:\n",
    "    pickle.dump(stim_classes, fH)"
   ]
  },
  {
   "cell_type": "code",
   "execution_count": null,
   "metadata": {},
   "outputs": [],
   "source": []
  }
 ],
 "metadata": {
  "kernelspec": {
   "display_name": "ephys",
   "language": "python",
   "name": "python3"
  },
  "language_info": {
   "codemirror_mode": {
    "name": "ipython",
    "version": 3
   },
   "file_extension": ".py",
   "mimetype": "text/x-python",
   "name": "python",
   "nbconvert_exporter": "python",
   "pygments_lexer": "ipython3",
   "version": "3.10.8"
  }
 },
 "nbformat": 4,
 "nbformat_minor": 2
}
